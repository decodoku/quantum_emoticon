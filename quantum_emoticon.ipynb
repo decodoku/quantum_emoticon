{
 "cells": [
  {
   "cell_type": "markdown",
   "metadata": {},
   "source": [
    "## _*Quantum Emoticon*_ \n",
    "\n",
    "The latest version of this notebook is available on https://github.com/QISKit/qiskit-tutorial.\n",
    "\n",
    "For more information about how to use the IBM Q experience (QX), consult the [tutorials](https://quantumexperience.ng.bluemix.net/qstage/#/tutorial?sectionId=c59b3710b928891a1420190148a72cce&pageIndex=0), or check out the [community](https://quantumexperience.ng.bluemix.net/qstage/#/community).\n",
    "\n",
    "***\n",
    "### Contributors\n",
    "James R. Wootton, University of Basel"
   ]
  },
  {
   "cell_type": "markdown",
   "metadata": {},
   "source": [
    "***\n",
    "\n",
    "This program aims to do some of the same jobs as \"Hello World\" does for classical programming.\n",
    "\n",
    "Specifically:\n",
    "* It is simple;\n",
    "* It performs and understandable and relatable task;\n",
    "* It demonstrates simple principles of the programming language;\n",
    "* It shows how to produce and look at an output."
   ]
  },
  {
   "cell_type": "code",
   "execution_count": 1,
   "metadata": {
    "collapsed": true
   },
   "outputs": [],
   "source": [
    "import sys\n",
    "sys.path.append(\"../../qiskit-sdk-py/\")\n",
    "from qiskit import QuantumProgram\n",
    "import Qconfig\n",
    "import math"
   ]
  },
  {
   "cell_type": "markdown",
   "metadata": {},
   "source": [
    "Writing \"Hello World\" onto qubits is not possible with current technology. ASCII encoding of \"Hello World\" requires nearly 100 bits, and storing each classical bit value requires a qubit. There is therefore simple not enough qubits on any current device.\n",
    "\n",
    "However, two ASCII characters require only 16 (qu)bits. Writing an emoticon like ;) can therefore be done using *ibmqx5*.\n",
    "\n",
    "The string corresponding to ;) is\n",
    "    \n",
    "    ;)  =  '0011101100101001'\n",
    "\n",
    "Since all qubits are initialized in state 0, writing this bit string using qubits requires us to apply a NOT gate to every qubit that corresponds to a bit in state 1. We can do this using the gate X. If we number the bits from 0 to 15, from right to left, this an X on qubits 0, 3, 5, 8, 9, 11, 12, 13. \n",
    "\n",
    "Of course, just writing a bit string in some qubits isn't very quantum. Instead we can prepare a superposition of two different emoticons. We choose ;) and 8), which correspond to the bit strings\n",
    "\n",
    "    8)  =  '0011100000101001'\n",
    "    ;)  =  '0011101100101001'\n",
    "\n",
    "Note that these strings differ only on bits 8 and 9. It is therefore only these on which the superposition must be prepared. The superposition will be of the '00' of 8), and the '11' of ;) , and so will be a standard [Bell state](https://github.com/QISKit/qiskit-tutorial/blob/master/2_quantum_information/superposition_and_entanglement.ipynb).\n",
    "\n",
    "We'll now implement this and run it for 1024 shots."
   ]
  },
  {
   "cell_type": "code",
   "execution_count": 2,
   "metadata": {
    "collapsed": false
   },
   "outputs": [
    {
     "name": "stdout",
     "output_type": "stream",
     "text": [
      "running on backend: ibmqx5\n",
      "status = RUNNING (5 seconds)\n",
      "status = RUNNING (10 seconds)\n",
      "status = RUNNING (15 seconds)\n",
      "status = RUNNING (20 seconds)\n",
      "status = RUNNING (25 seconds)\n",
      "status = RUNNING (30 seconds)\n",
      "status = RUNNING (35 seconds)\n",
      "status = RUNNING (40 seconds)\n",
      "status = RUNNING (45 seconds)\n",
      "status = RUNNING (50 seconds)\n",
      "status = RUNNING (55 seconds)\n"
     ]
    }
   ],
   "source": [
    "qp = QuantumProgram()\n",
    "qp.set_api(Qconfig.APItoken, Qconfig.config[\"url\"]) # set the APIToken and API url\n",
    "\n",
    "# set up registers and program\n",
    "qr = qp.create_quantum_register('qr', 16)\n",
    "cr = qp.create_classical_register('cr', 16)\n",
    "qc = qp.create_circuit('smiley_writer', [qr], [cr])\n",
    "\n",
    "# rightmost eight (qu)bits have ')' = 00101001\n",
    "qc.x(qr[0])\n",
    "qc.x(qr[3])\n",
    "qc.x(qr[5])\n",
    "\n",
    "# second eight (qu)bits have superposition of\n",
    "# '8' = 00111000\n",
    "# ';' = 00111011\n",
    "# these differ only on the rightmost two bits\n",
    "qc.h(qr[9]) # create superposition on 9\n",
    "qc.cx(qr[9],qr[8]) # spread it to 8 with a cnot\n",
    "qc.x(qr[11])\n",
    "qc.x(qr[12])\n",
    "qc.x(qr[13])\n",
    "\n",
    "# measure\n",
    "for j in range(16):\n",
    "    qc.measure(qr[j], cr[j])\n",
    "\n",
    "# run and get results\n",
    "results = qp.execute([\"smiley_writer\"], backend='ibmqx5', shots=1024, silent=False)\n",
    "stats = results.get_counts(\"smiley_writer\")"
   ]
  },
  {
   "cell_type": "markdown",
   "metadata": {},
   "source": [
    "The results in *stats* tell us how many times each bit string was found as a result. To print the result in an understandable way, we can convert the bit strings into ASCII characters. We can also calculate the fraction of shots for which each result occurred. This processed data makes up *emoticonDict*."
   ]
  },
  {
   "cell_type": "code",
   "execution_count": 3,
   "metadata": {
    "collapsed": true
   },
   "outputs": [],
   "source": [
    "characterDict = {}\n",
    "for bitString in stats: # loop over all results\n",
    "    char1 = chr(int( bitString[0:8] ,2)) # get string of leftmost 8 bits an convert to an ASCII character\n",
    "    char2 = chr(int( bitString[8:16] ,2)) # same for string of leftmost 8 bits\n",
    "    characterDict[ char1 + char2 ] = stats[bitString] / 1024"
   ]
  },
  {
   "cell_type": "markdown",
   "metadata": {},
   "source": [
    "Finally it is time to make an actual emoticon. We'll make an image in which the all the characters included in the result are printed on top of each other. The alpha channel is set to the fraction of shots for which that result occurred. Ideally this should be equally split between 8) and ;), but noise will mean some other stuff will turn up too."
   ]
  },
  {
   "cell_type": "code",
   "execution_count": 4,
   "metadata": {
    "collapsed": false,
    "scrolled": true
   },
   "outputs": [
    {
     "data": {
      "image/png": "[encoded data removed]",
      "text/plain": [
       "<matplotlib.figure.Figure at 0x7fa67ddb9d30>"
      ]
     },
     "metadata": {},
     "output_type": "display_data"
    }
   ],
   "source": [
    "import matplotlib.pyplot as plt\n",
    "plt.rc('font', family='monospace')\n",
    "for char in characterDict.keys():\n",
    "    # plot all characters on top of each other with alpha given by how often it turned up in the output\n",
    "    plt.annotate( char, (0.5,0.5), va=\"center\", ha=\"center\", color = (0,0,0,characterDict[char]), size = 300)\n",
    "plt.axis('off')\n",
    "plt.show()"
   ]
  },
  {
   "cell_type": "markdown",
   "metadata": {},
   "source": [
    "And there you have it. We took one of the world's most advanced devices and made a smiley with it. A quantum smiley!"
   ]
  },
  {
   "cell_type": "markdown",
   "metadata": {},
   "source": [
    "To see exactly what the main contributions to this are, we can look at which results occurred in more than 5% of shots."
   ]
  },
  {
   "cell_type": "code",
   "execution_count": 10,
   "metadata": {
    "collapsed": false
   },
   "outputs": [
    {
     "name": "stdout",
     "output_type": "stream",
     "text": [
      "0.076171875 \t 8\t \n",
      "0.140625 \t 8) \n",
      "0.0556640625 \t ;\t \n",
      "0.1171875 \t ;) \n"
     ]
    }
   ],
   "source": [
    "for char in characterDict.keys():\n",
    "    if (characterDict[char]>0.05):\n",
    "        print(characterDict[char],char)"
   ]
  }
 ],
 "metadata": {
  "kernelspec": {
   "display_name": "Python 3",
   "language": "python",
   "name": "python3"
  },
  "language_info": {
   "codemirror_mode": {
    "name": "ipython",
    "version": 3
   },
   "file_extension": ".py",
   "mimetype": "text/x-python",
   "name": "python",
   "nbconvert_exporter": "python",
   "pygments_lexer": "ipython3",
   "version": "3.6.0"
  }
 },
 "nbformat": 4,
 "nbformat_minor": 2
}
